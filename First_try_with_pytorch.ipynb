{
 "cells": [
  {
   "cell_type": "code",
   "execution_count": 58,
   "metadata": {},
   "outputs": [],
   "source": [
    "import numpy as np\n",
    "import torch\n",
    "import torch.optim as optim\n",
    "import os\n",
    "import glob\n",
    "from PIL import Image\n",
    "import matplotlib.pyplot as plt\n",
    "import torchvision.transforms as T\n",
    "from torch.utils.data import Dataset, DataLoader"
   ]
  },
  {
   "cell_type": "code",
   "execution_count": 59,
   "metadata": {},
   "outputs": [],
   "source": [
    "dataset_path = \"D:\\pytorch_catsanddogs\\dataset\"\n",
    "\n",
    "TRAIN_SET = dataset_path+\"\\\\train\"\n",
    "TEST_SET = dataset_path+\"\\\\test\""
   ]
  },
  {
   "cell_type": "code",
   "execution_count": 60,
   "metadata": {},
   "outputs": [],
   "source": [
    "train_imgs = []\n",
    "val_imgs = []\n",
    "for roots,dirs,files in os.walk(TRAIN_SET):\n",
    "    train_imgs.extend(files)\n",
    "for root,dirs,files in os.walk(TEST_SET):\n",
    "    val_imgs.extend(files)"
   ]
  },
  {
   "cell_type": "code",
   "execution_count": 61,
   "metadata": {},
   "outputs": [],
   "source": [
    "def class_to_int(label):\n",
    "    if label == 'cat':\n",
    "        return 0\n",
    "    if lable == 'dog':\n",
    "        return 1"
   ]
  },
  {
   "cell_type": "code",
   "execution_count": 62,
   "metadata": {},
   "outputs": [],
   "source": [
    "def get_train_transform():\n",
    "    return T.Compose([\n",
    "        T.ToTensor(),\n",
    "        T.Normalize((0, 0, 0),(1 , 1, 1))\n",
    "    ])\n",
    "def get_val_transform():\n",
    "    return T.Compose([\n",
    "        T.ToTensor(),\n",
    "        T.Normalize((0, 0, 0),(1 , 1, 1))\n",
    "    ])"
   ]
  },
  {
   "cell_type": "code",
   "execution_count": 65,
   "metadata": {},
   "outputs": [],
   "source": [
    "class CreateDataset(Dataset):\n",
    "    def init(self, imgs, mode = 'train', transforms=None):\n",
    "        super().__init__()\n",
    "        self.imgs = imgs\n",
    "        self.mode = mode\n",
    "        self.transforms = transforms\n",
    "    def __getitem__(self, idx):\n",
    "        image_name = self.imgs[idx]\n",
    "        image_name_list = image_name.split('.')\n",
    "        if self.mode == 'train':\n",
    "            if image_name_list[0] == 'cat':\n",
    "                img = Image.open('TRAIN_SET\\\\cats\\\\'+image_name)\n",
    "            elif image_name_list[0] == 'dog':\n",
    "                img = Image.open('TRAIN_SET\\\\dog\\\\'+image_name)\n",
    "        if self.mode == 'val':\n",
    "            if image_name_list[0] == 'cat':\n",
    "                img = Image.open('TEST_SET\\\\cats\\\\'+image_name)\n",
    "            elif image_name_list[0] == 'dog':\n",
    "                img = Image.open('TEST_SET\\\\dog\\\\'+image_name)\n",
    "            \n",
    "        img = img.resize(224, 224)\n",
    "        if self.mode == 'train' or self.mode == 'test':\n",
    "            label = class_to_int(img_name_list[0])\n",
    "            label = torch.tensor(label, dtype = torch.float32)\n",
    "            \n",
    "            img = self.transforms(img)\n",
    "            \n",
    "            return img, label\n",
    "        \n",
    "        elif self.mode == 'test':\n",
    "            img = self.transforms(img)\n",
    "            return img\n",
    "    def __len__(self):\n",
    "        return(len(self.imgs))\n",
    "            \n",
    "            "
   ]
  },
  {
   "cell_type": "code",
   "execution_count": 66,
   "metadata": {},
   "outputs": [
    {
     "ename": "TypeError",
     "evalue": "object.__new__() takes exactly one argument (the type to instantiate)",
     "output_type": "error",
     "traceback": [
      "\u001b[1;31m---------------------------------------------------------------------------\u001b[0m",
      "\u001b[1;31mTypeError\u001b[0m                                 Traceback (most recent call last)",
      "\u001b[1;32m~\\AppData\\Local\\Temp/ipykernel_23664/2568067642.py\u001b[0m in \u001b[0;36m<module>\u001b[1;34m\u001b[0m\n\u001b[1;32m----> 1\u001b[1;33m \u001b[0mtrain_dataset\u001b[0m \u001b[1;33m=\u001b[0m \u001b[0mCreateDataset\u001b[0m\u001b[1;33m(\u001b[0m\u001b[0mtrain_imgs\u001b[0m\u001b[1;33m,\u001b[0m \u001b[0mmode\u001b[0m \u001b[1;33m=\u001b[0m \u001b[1;34m'train'\u001b[0m\u001b[1;33m,\u001b[0m \u001b[0mtransfroms\u001b[0m \u001b[1;33m=\u001b[0m \u001b[0mget_train_transform\u001b[0m\u001b[1;33m(\u001b[0m\u001b[1;33m)\u001b[0m\u001b[1;33m)\u001b[0m\u001b[1;33m\u001b[0m\u001b[1;33m\u001b[0m\u001b[0m\n\u001b[0m\u001b[0;32m      2\u001b[0m \u001b[0mval_dataset\u001b[0m \u001b[1;33m=\u001b[0m \u001b[0mCreateDataset\u001b[0m\u001b[1;33m(\u001b[0m\u001b[0mval_imgs\u001b[0m\u001b[1;33m,\u001b[0m \u001b[0mmode\u001b[0m \u001b[1;33m=\u001b[0m \u001b[1;34m'val'\u001b[0m\u001b[1;33m,\u001b[0m \u001b[0mtransfroms\u001b[0m \u001b[1;33m=\u001b[0m \u001b[0mget_val_transform\u001b[0m\u001b[1;33m(\u001b[0m\u001b[1;33m)\u001b[0m\u001b[1;33m)\u001b[0m\u001b[1;33m\u001b[0m\u001b[1;33m\u001b[0m\u001b[0m\n",
      "\u001b[1;32m~\\anaconda3\\envs\\dicomimg\\lib\\typing.py\u001b[0m in \u001b[0;36m__new__\u001b[1;34m(cls, *args, **kwds)\u001b[0m\n\u001b[0;32m    873\u001b[0m             \u001b[0mobj\u001b[0m \u001b[1;33m=\u001b[0m \u001b[0msuper\u001b[0m\u001b[1;33m(\u001b[0m\u001b[1;33m)\u001b[0m\u001b[1;33m.\u001b[0m\u001b[0m__new__\u001b[0m\u001b[1;33m(\u001b[0m\u001b[0mcls\u001b[0m\u001b[1;33m)\u001b[0m\u001b[1;33m\u001b[0m\u001b[1;33m\u001b[0m\u001b[0m\n\u001b[0;32m    874\u001b[0m         \u001b[1;32melse\u001b[0m\u001b[1;33m:\u001b[0m\u001b[1;33m\u001b[0m\u001b[1;33m\u001b[0m\u001b[0m\n\u001b[1;32m--> 875\u001b[1;33m             \u001b[0mobj\u001b[0m \u001b[1;33m=\u001b[0m \u001b[0msuper\u001b[0m\u001b[1;33m(\u001b[0m\u001b[1;33m)\u001b[0m\u001b[1;33m.\u001b[0m\u001b[0m__new__\u001b[0m\u001b[1;33m(\u001b[0m\u001b[0mcls\u001b[0m\u001b[1;33m,\u001b[0m \u001b[1;33m*\u001b[0m\u001b[0margs\u001b[0m\u001b[1;33m,\u001b[0m \u001b[1;33m**\u001b[0m\u001b[0mkwds\u001b[0m\u001b[1;33m)\u001b[0m\u001b[1;33m\u001b[0m\u001b[1;33m\u001b[0m\u001b[0m\n\u001b[0m\u001b[0;32m    876\u001b[0m         \u001b[1;32mreturn\u001b[0m \u001b[0mobj\u001b[0m\u001b[1;33m\u001b[0m\u001b[1;33m\u001b[0m\u001b[0m\n\u001b[0;32m    877\u001b[0m \u001b[1;33m\u001b[0m\u001b[0m\n",
      "\u001b[1;31mTypeError\u001b[0m: object.__new__() takes exactly one argument (the type to instantiate)"
     ]
    }
   ],
   "source": [
    "train_dataset = CreateDataset(train_imgs, mode = 'train', transfroms = get_train_transform())\n",
    "val_dataset = CreateDataset(val_imgs, mode = 'val', transfroms = get_val_transform())"
   ]
  },
  {
   "cell_type": "code",
   "execution_count": null,
   "metadata": {},
   "outputs": [],
   "source": [
    "train_data_loader = DataLoader(\n",
    "            dataset = train_dataset,\n",
    "            num_workers = 4,\n",
    "            batch_size = 16,\n",
    "            shuffle = True\n",
    ")\n",
    "val_data_loader = DataLoader(\n",
    "            dataset = val_dataset,\n",
    "            num_workers = 4,\n",
    "            batch_size = 16,\n",
    "            shuffle = True\n",
    ")"
   ]
  },
  {
   "cell_type": "code",
   "execution_count": null,
   "metadata": {},
   "outputs": [],
   "source": [
    "for images,labels in train_data_loader:\n",
    "    fig, ax = plt.subplot(figsize = (10,10))\n",
    "    ax.imshow(make_grid(images, 4).permute(1, 2, 0))\n",
    "    break\n",
    "              "
   ]
  },
  {
   "cell_type": "code",
   "execution_count": null,
   "metadata": {},
   "outputs": [],
   "source": []
  }
 ],
 "metadata": {
  "kernelspec": {
   "display_name": "Python 3 (ipykernel)",
   "language": "python",
   "name": "python3"
  },
  "language_info": {
   "codemirror_mode": {
    "name": "ipython",
    "version": 3
   },
   "file_extension": ".py",
   "mimetype": "text/x-python",
   "name": "python",
   "nbconvert_exporter": "python",
   "pygments_lexer": "ipython3",
   "version": "3.8.10"
  }
 },
 "nbformat": 4,
 "nbformat_minor": 4
}
